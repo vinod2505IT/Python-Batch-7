{
 "cells": [
  {
   "cell_type": "code",
   "execution_count": 4,
   "metadata": {},
   "outputs": [
    {
     "name": "stdout",
     "output_type": "stream",
     "text": [
      "Enter a feet4500\n",
      "Bring Down to 1000\n"
     ]
    }
   ],
   "source": [
    "feet = int(input(\"Enter a feet\"))\n",
    "if(feet<=1000):\n",
    "    print(\"Safe to Land\")\n",
    "elif(feet>1000 and feet<5000):\n",
    "    print(\"Bring Down to 1000\")\n",
    "else:\n",
    "    print(\"Turn Around\")"
   ]
  },
  {
   "cell_type": "code",
   "execution_count": null,
   "metadata": {},
   "outputs": [],
   "source": []
  },
  {
   "cell_type": "code",
   "execution_count": null,
   "metadata": {},
   "outputs": [],
   "source": []
  }
 ],
 "metadata": {
  "kernelspec": {
   "display_name": "Python 3",
   "language": "python",
   "name": "python3"
  },
  "language_info": {
   "codemirror_mode": {
    "name": "ipython",
    "version": 3
   },
   "file_extension": ".py",
   "mimetype": "text/x-python",
   "name": "python",
   "nbconvert_exporter": "python",
   "pygments_lexer": "ipython3",
   "version": "3.8.3"
  }
 },
 "nbformat": 4,
 "nbformat_minor": 4
}
